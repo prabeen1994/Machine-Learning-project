{
 "cells": [
  {
   "cell_type": "markdown",
   "metadata": {},
   "source": [
    "# DMDS Project - Use data to maximize revenue from marketing campaigns \n",
    "31/01/2020\n",
    "## Jiani\n",
    "\n",
    "\n",
    "## What are the steps to take for this project?\n",
    "\n",
    "1.Frame the problem: \"Maximize revenue for 3 products\" could be reframed as \"calculate the probability of what the clients will buy\", and \"what revenue could they generate for each product\".\n",
    "\n",
    "2.This requires two different ML methods: classification and regression.\n",
    "\n",
    "\n",
    "Step1: Prepare the data:\n",
    "\n",
    "This step is for exploring the data \n",
    "\n",
    "\n",
    "## Which clients are to be targeted with which offer?\n",
    "\n",
    "Three products to be identified: Customer Credit, Customer Loan, Customer Mutuel fund.\n",
    "By testing Tree-based classification models (Decisiontreeclassifier, Logistic Regression, Naîve Bayers and random forests), we tend to maximize the accuracy results of each model adopted, and then based on the probability, map on the probability of each client (the intention to purchase this product), and then calculate the potential revenu (based on the revenu already generated before by these clients). \n",
    "\n",
    "\n",
    "\n",
    "## How to optimize the revenue based on the propensity mapped on each client? \n",
    "\n",
    "Based on the propensity (which client is more likely to purchase which product, and the potentiel revenue that could be trained on linear regression.\n",
    "\n",
    "\n",
    "The data were split into 75% for training and 25% for testing purposes. The training dataset was further analyzed using 3-fold validation and the final results (presented below) were generated on the testing set.\n",
    "\n"
   ]
  },
  {
   "cell_type": "code",
   "execution_count": 2,
   "metadata": {},
   "outputs": [],
   "source": [
    "import pandas as pd\n",
    "import numpy as np\n",
    "from sklearn.model_selection import train_test_split \n",
    "from sklearn.metrics import accuracy_score\n",
    "import matplotlib.pyplot as plt\n",
    "import seaborn as sns\n",
    "from scipy.stats import zscore\n",
    "from sklearn.model_selection import KFold\n",
    "from sklearn.model_selection import cross_val_score, cross_val_predict\n",
    "from sklearn import metrics\n",
    "from sklearn.metrics import classification_report\n",
    "from sklearn.metrics import confusion_matrix\n",
    "from sklearn.metrics import mean_squared_error as MSE\n",
    "from sklearn.linear_model import LogisticRegression\n",
    "from sklearn.tree import DecisionTreeClassifier\n",
    "from sklearn.neighbors import KNeighborsClassifier as KNN \n",
    "from sklearn.ensemble import VotingClassifier\n",
    "from sklearn.discriminant_analysis import LinearDiscriminantAnalysis\n",
    "from sklearn.naive_bayes import GaussianNB\n",
    "from sklearn.svm import SVC\n",
    "from sklearn.tree import DecisionTreeClassifier\n",
    "from sklearn.ensemble import BaggingClassifier\n",
    "\n",
    "%matplotlib inline\n",
    "from pandas import read_excel\n",
    "df_soc = pd.read_excel('soc.xlsx')#Social-demographical data (client ID, age, gender, tenure in a bank)\n",
    "df_product = pd.read_excel('products.xlsx')#Products and actual balance (current account, saving account, mutual funds, overdraft, credit card, consumer loan)\n",
    "df_inoutflow = pd.read_excel('inoutflow.xlsx')#Inflow/outflow on C/A, aggregated card turnover (monthly average over past 3 months)\n",
    "df_sales = pd.read_excel('sales.xlsx')#Clients actual sales and revenues. Data is available for 60 % of the clients."
   ]
  },
  {
   "cell_type": "code",
   "execution_count": 3,
   "metadata": {},
   "outputs": [
    {
     "data": {
      "text/html": [
       "<div>\n",
       "<style scoped>\n",
       "    .dataframe tbody tr th:only-of-type {\n",
       "        vertical-align: middle;\n",
       "    }\n",
       "\n",
       "    .dataframe tbody tr th {\n",
       "        vertical-align: top;\n",
       "    }\n",
       "\n",
       "    .dataframe thead th {\n",
       "        text-align: right;\n",
       "    }\n",
       "</style>\n",
       "<table border=\"1\" class=\"dataframe\">\n",
       "  <thead>\n",
       "    <tr style=\"text-align: right;\">\n",
       "      <th></th>\n",
       "      <th>Client</th>\n",
       "      <th>Sale_MF</th>\n",
       "      <th>VolumeCred</th>\n",
       "      <th>VolumeCred_CA</th>\n",
       "      <th>TransactionsCred</th>\n",
       "      <th>TransactionsCred_CA</th>\n",
       "      <th>VolumeDeb</th>\n",
       "      <th>VolumeDeb_CA</th>\n",
       "      <th>VolumeDebCash_Card</th>\n",
       "      <th>VolumeDebCashless_Card</th>\n",
       "      <th>...</th>\n",
       "      <th>Count_MF</th>\n",
       "      <th>Count_OVD</th>\n",
       "      <th>Count_CC</th>\n",
       "      <th>Count_CL</th>\n",
       "      <th>ActBal_CA</th>\n",
       "      <th>ActBal_SA</th>\n",
       "      <th>ActBal_MF</th>\n",
       "      <th>ActBal_OVD</th>\n",
       "      <th>ActBal_CC</th>\n",
       "      <th>ActBal_CL</th>\n",
       "    </tr>\n",
       "  </thead>\n",
       "  <tbody>\n",
       "    <tr>\n",
       "      <td>0</td>\n",
       "      <td>1094</td>\n",
       "      <td>0</td>\n",
       "      <td>0.011786</td>\n",
       "      <td>0.011786</td>\n",
       "      <td>1.0</td>\n",
       "      <td>1.0</td>\n",
       "      <td>1366.313929</td>\n",
       "      <td>1366.313929</td>\n",
       "      <td>53.571429</td>\n",
       "      <td>351.950357</td>\n",
       "      <td>...</td>\n",
       "      <td>NaN</td>\n",
       "      <td>NaN</td>\n",
       "      <td>NaN</td>\n",
       "      <td>NaN</td>\n",
       "      <td>89.022500</td>\n",
       "      <td>NaN</td>\n",
       "      <td>NaN</td>\n",
       "      <td>NaN</td>\n",
       "      <td>NaN</td>\n",
       "      <td>NaN</td>\n",
       "    </tr>\n",
       "    <tr>\n",
       "      <td>1</td>\n",
       "      <td>1484</td>\n",
       "      <td>1</td>\n",
       "      <td>1355.088571</td>\n",
       "      <td>1355.088571</td>\n",
       "      <td>5.0</td>\n",
       "      <td>5.0</td>\n",
       "      <td>768.625000</td>\n",
       "      <td>768.625000</td>\n",
       "      <td>107.142857</td>\n",
       "      <td>302.446429</td>\n",
       "      <td>...</td>\n",
       "      <td>NaN</td>\n",
       "      <td>NaN</td>\n",
       "      <td>NaN</td>\n",
       "      <td>NaN</td>\n",
       "      <td>0.000000</td>\n",
       "      <td>NaN</td>\n",
       "      <td>NaN</td>\n",
       "      <td>NaN</td>\n",
       "      <td>NaN</td>\n",
       "      <td>NaN</td>\n",
       "    </tr>\n",
       "    <tr>\n",
       "      <td>2</td>\n",
       "      <td>20</td>\n",
       "      <td>0</td>\n",
       "      <td>452.617500</td>\n",
       "      <td>451.550000</td>\n",
       "      <td>4.0</td>\n",
       "      <td>3.0</td>\n",
       "      <td>221.428571</td>\n",
       "      <td>221.428571</td>\n",
       "      <td>107.142857</td>\n",
       "      <td>10.714286</td>\n",
       "      <td>...</td>\n",
       "      <td>NaN</td>\n",
       "      <td>NaN</td>\n",
       "      <td>NaN</td>\n",
       "      <td>NaN</td>\n",
       "      <td>2194.472143</td>\n",
       "      <td>18302.062500</td>\n",
       "      <td>NaN</td>\n",
       "      <td>NaN</td>\n",
       "      <td>NaN</td>\n",
       "      <td>NaN</td>\n",
       "    </tr>\n",
       "    <tr>\n",
       "      <td>3</td>\n",
       "      <td>1193</td>\n",
       "      <td>0</td>\n",
       "      <td>1442.837857</td>\n",
       "      <td>1151.652857</td>\n",
       "      <td>23.0</td>\n",
       "      <td>21.0</td>\n",
       "      <td>1661.201071</td>\n",
       "      <td>1207.906429</td>\n",
       "      <td>507.142857</td>\n",
       "      <td>331.150000</td>\n",
       "      <td>...</td>\n",
       "      <td>NaN</td>\n",
       "      <td>1.0</td>\n",
       "      <td>NaN</td>\n",
       "      <td>NaN</td>\n",
       "      <td>4180.697500</td>\n",
       "      <td>NaN</td>\n",
       "      <td>NaN</td>\n",
       "      <td>0.0</td>\n",
       "      <td>NaN</td>\n",
       "      <td>NaN</td>\n",
       "    </tr>\n",
       "    <tr>\n",
       "      <td>4</td>\n",
       "      <td>142</td>\n",
       "      <td>0</td>\n",
       "      <td>714.285714</td>\n",
       "      <td>714.285714</td>\n",
       "      <td>1.0</td>\n",
       "      <td>1.0</td>\n",
       "      <td>728.107143</td>\n",
       "      <td>728.107143</td>\n",
       "      <td>0.000000</td>\n",
       "      <td>0.000000</td>\n",
       "      <td>...</td>\n",
       "      <td>NaN</td>\n",
       "      <td>NaN</td>\n",
       "      <td>NaN</td>\n",
       "      <td>NaN</td>\n",
       "      <td>1511.683929</td>\n",
       "      <td>NaN</td>\n",
       "      <td>NaN</td>\n",
       "      <td>NaN</td>\n",
       "      <td>NaN</td>\n",
       "      <td>NaN</td>\n",
       "    </tr>\n",
       "    <tr>\n",
       "      <td>...</td>\n",
       "      <td>...</td>\n",
       "      <td>...</td>\n",
       "      <td>...</td>\n",
       "      <td>...</td>\n",
       "      <td>...</td>\n",
       "      <td>...</td>\n",
       "      <td>...</td>\n",
       "      <td>...</td>\n",
       "      <td>...</td>\n",
       "      <td>...</td>\n",
       "      <td>...</td>\n",
       "      <td>...</td>\n",
       "      <td>...</td>\n",
       "      <td>...</td>\n",
       "      <td>...</td>\n",
       "      <td>...</td>\n",
       "      <td>...</td>\n",
       "      <td>...</td>\n",
       "      <td>...</td>\n",
       "      <td>...</td>\n",
       "      <td>...</td>\n",
       "    </tr>\n",
       "    <tr>\n",
       "      <td>964</td>\n",
       "      <td>1316</td>\n",
       "      <td>0</td>\n",
       "      <td>2713.495000</td>\n",
       "      <td>2665.039286</td>\n",
       "      <td>4.0</td>\n",
       "      <td>2.0</td>\n",
       "      <td>2985.423571</td>\n",
       "      <td>2874.767857</td>\n",
       "      <td>400.000000</td>\n",
       "      <td>507.816429</td>\n",
       "      <td>...</td>\n",
       "      <td>NaN</td>\n",
       "      <td>1.0</td>\n",
       "      <td>1.0</td>\n",
       "      <td>NaN</td>\n",
       "      <td>2145.810000</td>\n",
       "      <td>5861.004643</td>\n",
       "      <td>NaN</td>\n",
       "      <td>0.0</td>\n",
       "      <td>43.321429</td>\n",
       "      <td>NaN</td>\n",
       "    </tr>\n",
       "    <tr>\n",
       "      <td>965</td>\n",
       "      <td>905</td>\n",
       "      <td>1</td>\n",
       "      <td>573.861071</td>\n",
       "      <td>573.861071</td>\n",
       "      <td>2.0</td>\n",
       "      <td>2.0</td>\n",
       "      <td>634.845357</td>\n",
       "      <td>634.845357</td>\n",
       "      <td>0.000000</td>\n",
       "      <td>0.000000</td>\n",
       "      <td>...</td>\n",
       "      <td>NaN</td>\n",
       "      <td>NaN</td>\n",
       "      <td>NaN</td>\n",
       "      <td>NaN</td>\n",
       "      <td>4899.048214</td>\n",
       "      <td>NaN</td>\n",
       "      <td>NaN</td>\n",
       "      <td>NaN</td>\n",
       "      <td>NaN</td>\n",
       "      <td>NaN</td>\n",
       "    </tr>\n",
       "    <tr>\n",
       "      <td>966</td>\n",
       "      <td>938</td>\n",
       "      <td>0</td>\n",
       "      <td>448.467143</td>\n",
       "      <td>448.465000</td>\n",
       "      <td>3.0</td>\n",
       "      <td>2.0</td>\n",
       "      <td>470.528571</td>\n",
       "      <td>470.528571</td>\n",
       "      <td>85.714286</td>\n",
       "      <td>221.528571</td>\n",
       "      <td>...</td>\n",
       "      <td>2.0</td>\n",
       "      <td>NaN</td>\n",
       "      <td>NaN</td>\n",
       "      <td>NaN</td>\n",
       "      <td>7.576786</td>\n",
       "      <td>52743.090714</td>\n",
       "      <td>0.0</td>\n",
       "      <td>NaN</td>\n",
       "      <td>NaN</td>\n",
       "      <td>NaN</td>\n",
       "    </tr>\n",
       "    <tr>\n",
       "      <td>967</td>\n",
       "      <td>434</td>\n",
       "      <td>0</td>\n",
       "      <td>173.211786</td>\n",
       "      <td>173.211786</td>\n",
       "      <td>3.0</td>\n",
       "      <td>3.0</td>\n",
       "      <td>174.010714</td>\n",
       "      <td>174.010714</td>\n",
       "      <td>71.428571</td>\n",
       "      <td>9.510714</td>\n",
       "      <td>...</td>\n",
       "      <td>NaN</td>\n",
       "      <td>NaN</td>\n",
       "      <td>NaN</td>\n",
       "      <td>NaN</td>\n",
       "      <td>2469.842857</td>\n",
       "      <td>NaN</td>\n",
       "      <td>NaN</td>\n",
       "      <td>NaN</td>\n",
       "      <td>NaN</td>\n",
       "      <td>NaN</td>\n",
       "    </tr>\n",
       "    <tr>\n",
       "      <td>968</td>\n",
       "      <td>1596</td>\n",
       "      <td>0</td>\n",
       "      <td>539.970000</td>\n",
       "      <td>535.754643</td>\n",
       "      <td>3.0</td>\n",
       "      <td>2.0</td>\n",
       "      <td>1.964286</td>\n",
       "      <td>1.964286</td>\n",
       "      <td>0.000000</td>\n",
       "      <td>0.000000</td>\n",
       "      <td>...</td>\n",
       "      <td>NaN</td>\n",
       "      <td>NaN</td>\n",
       "      <td>NaN</td>\n",
       "      <td>NaN</td>\n",
       "      <td>69.169286</td>\n",
       "      <td>7168.960714</td>\n",
       "      <td>NaN</td>\n",
       "      <td>NaN</td>\n",
       "      <td>NaN</td>\n",
       "      <td>NaN</td>\n",
       "    </tr>\n",
       "  </tbody>\n",
       "</table>\n",
       "<p>969 rows × 31 columns</p>\n",
       "</div>"
      ],
      "text/plain": [
       "     Client  Sale_MF   VolumeCred  VolumeCred_CA  TransactionsCred  \\\n",
       "0      1094        0     0.011786       0.011786               1.0   \n",
       "1      1484        1  1355.088571    1355.088571               5.0   \n",
       "2        20        0   452.617500     451.550000               4.0   \n",
       "3      1193        0  1442.837857    1151.652857              23.0   \n",
       "4       142        0   714.285714     714.285714               1.0   \n",
       "..      ...      ...          ...            ...               ...   \n",
       "964    1316        0  2713.495000    2665.039286               4.0   \n",
       "965     905        1   573.861071     573.861071               2.0   \n",
       "966     938        0   448.467143     448.465000               3.0   \n",
       "967     434        0   173.211786     173.211786               3.0   \n",
       "968    1596        0   539.970000     535.754643               3.0   \n",
       "\n",
       "     TransactionsCred_CA    VolumeDeb  VolumeDeb_CA  VolumeDebCash_Card  \\\n",
       "0                    1.0  1366.313929   1366.313929           53.571429   \n",
       "1                    5.0   768.625000    768.625000          107.142857   \n",
       "2                    3.0   221.428571    221.428571          107.142857   \n",
       "3                   21.0  1661.201071   1207.906429          507.142857   \n",
       "4                    1.0   728.107143    728.107143            0.000000   \n",
       "..                   ...          ...           ...                 ...   \n",
       "964                  2.0  2985.423571   2874.767857          400.000000   \n",
       "965                  2.0   634.845357    634.845357            0.000000   \n",
       "966                  2.0   470.528571    470.528571           85.714286   \n",
       "967                  3.0   174.010714    174.010714           71.428571   \n",
       "968                  2.0     1.964286      1.964286            0.000000   \n",
       "\n",
       "     VolumeDebCashless_Card  ...  Count_MF  Count_OVD  Count_CC  Count_CL  \\\n",
       "0                351.950357  ...       NaN        NaN       NaN       NaN   \n",
       "1                302.446429  ...       NaN        NaN       NaN       NaN   \n",
       "2                 10.714286  ...       NaN        NaN       NaN       NaN   \n",
       "3                331.150000  ...       NaN        1.0       NaN       NaN   \n",
       "4                  0.000000  ...       NaN        NaN       NaN       NaN   \n",
       "..                      ...  ...       ...        ...       ...       ...   \n",
       "964              507.816429  ...       NaN        1.0       1.0       NaN   \n",
       "965                0.000000  ...       NaN        NaN       NaN       NaN   \n",
       "966              221.528571  ...       2.0        NaN       NaN       NaN   \n",
       "967                9.510714  ...       NaN        NaN       NaN       NaN   \n",
       "968                0.000000  ...       NaN        NaN       NaN       NaN   \n",
       "\n",
       "       ActBal_CA     ActBal_SA ActBal_MF  ActBal_OVD  ActBal_CC  ActBal_CL  \n",
       "0      89.022500           NaN       NaN         NaN        NaN        NaN  \n",
       "1       0.000000           NaN       NaN         NaN        NaN        NaN  \n",
       "2    2194.472143  18302.062500       NaN         NaN        NaN        NaN  \n",
       "3    4180.697500           NaN       NaN         0.0        NaN        NaN  \n",
       "4    1511.683929           NaN       NaN         NaN        NaN        NaN  \n",
       "..           ...           ...       ...         ...        ...        ...  \n",
       "964  2145.810000   5861.004643       NaN         0.0  43.321429        NaN  \n",
       "965  4899.048214           NaN       NaN         NaN        NaN        NaN  \n",
       "966     7.576786  52743.090714       0.0         NaN        NaN        NaN  \n",
       "967  2469.842857           NaN       NaN         NaN        NaN        NaN  \n",
       "968    69.169286   7168.960714       NaN         NaN        NaN        NaN  \n",
       "\n",
       "[969 rows x 31 columns]"
      ]
     },
     "execution_count": 3,
     "metadata": {},
     "output_type": "execute_result"
    }
   ],
   "source": [
    "#Training dataset for MF product \n",
    "df_train_whole=pd.merge(df_sales, df_inoutflow, on='Client', how='left')\n",
    "df_train_whole=df_train_whole.drop(['Sale_CC','Sale_CL','Revenue_MF','Revenue_CC','Revenue_CL'],axis=1)\n",
    "df_train_MF=pd.merge(df_train_whole, df_soc, on='Client', how='left')\n",
    "df_train_MF=pd.merge(df_train_MF, df_product, on='Client', how='left')\n",
    "df_train_MF['Sex']=df_train_MF['Sex'].replace({'M':'0','F':'1'})\n",
    "#df_train_MF = df_train_MF[['Sale_MF','Client','VolumeCred','VolumeCred_CA','TransactionsCred','TransactionsCred_CA','VolumeDeb','VolumeDeb_CA','VolumeDebCash_Card','VolumeDebCashless_Card','VolumeDeb_PaymentOrder','TransactionsDeb','TransactionsDeb_CA','TransactionsDebCash_Card','TransactionsDebCashless_Card','TransactionsDeb_PaymentOrder','Age','Tenure']]\n",
    "#df_train_MF=df_train_MF.dropna()\n",
    "df_train_MF\n"
   ]
  },
  {
   "cell_type": "markdown",
   "metadata": {},
   "source": [
    "## Correlation features"
   ]
  },
  {
   "cell_type": "code",
   "execution_count": 25,
   "metadata": {},
   "outputs": [
    {
     "name": "stdout",
     "output_type": "stream",
     "text": [
      "Sale_MF                         1.000000\n",
      "Count_MF                        0.289443\n",
      "TransactionsDebCashless_Card    0.124722\n",
      "TransactionsDeb                 0.082046\n",
      "TransactionsCred_CA             0.081221\n",
      "TransactionsCred                0.073665\n",
      "TransactionsDeb_CA              0.053412\n",
      "ActBal_CC                       0.044566\n",
      "TransactionsDeb_PaymentOrder    0.022197\n",
      "VolumeCred_CA                   0.015658\n",
      "Client                          0.011927\n",
      "ActBal_MF                       0.010592\n",
      "ActBal_OVD                      0.005557\n",
      "Count_CA                        0.003675\n",
      "VolumeDebCashless_Card          0.001447\n",
      "TransactionsDebCash_Card       -0.001596\n",
      "VolumeCred                     -0.003366\n",
      "Tenure                         -0.006277\n",
      "VolumeDeb_PaymentOrder         -0.012854\n",
      "Age                            -0.030449\n",
      "VolumeDebCash_Card             -0.030535\n",
      "VolumeDeb_CA                   -0.032684\n",
      "VolumeDeb                      -0.036300\n",
      "ActBal_CA                      -0.042985\n",
      "Count_SA                       -0.060335\n",
      "ActBal_SA                      -0.081947\n",
      "Count_CL                       -0.151749\n",
      "ActBal_CL                      -0.152873\n",
      "Count_OVD                            NaN\n",
      "Count_CC                             NaN\n",
      "Name: Sale_MF, dtype: float64\n"
     ]
    }
   ],
   "source": [
    "corr = df_train_MF.corr()\n",
    "corr.sort_values([\"Sale_MF\"], ascending = False, inplace = True)\n",
    "print(corr.Sale_MF)\n",
    "#plt.figure(figsize=(50,50))\n",
    "#sns.heatmap(corr, vmax=1, square=True,annot=True,cmap='seismic')\n",
    "#plt.title('Correlation between the selected Features')"
   ]
  },
  {
   "cell_type": "code",
   "execution_count": 26,
   "metadata": {},
   "outputs": [
    {
     "data": {
      "text/html": [
       "<div>\n",
       "<style scoped>\n",
       "    .dataframe tbody tr th:only-of-type {\n",
       "        vertical-align: middle;\n",
       "    }\n",
       "\n",
       "    .dataframe tbody tr th {\n",
       "        vertical-align: top;\n",
       "    }\n",
       "\n",
       "    .dataframe thead th {\n",
       "        text-align: right;\n",
       "    }\n",
       "</style>\n",
       "<table border=\"1\" class=\"dataframe\">\n",
       "  <thead>\n",
       "    <tr style=\"text-align: right;\">\n",
       "      <th></th>\n",
       "      <th>Sale_MF</th>\n",
       "      <th>Sex</th>\n",
       "      <th>ActBal_CC</th>\n",
       "      <th>Count_MF</th>\n",
       "      <th>TransactionsDebCashless_Card</th>\n",
       "      <th>TransactionsDeb</th>\n",
       "      <th>TransactionsCred_CA</th>\n",
       "      <th>TransactionsCred</th>\n",
       "      <th>TransactionsDeb_CA</th>\n",
       "      <th>ActBal_SA</th>\n",
       "      <th>Count_CL</th>\n",
       "      <th>ActBal_CL</th>\n",
       "    </tr>\n",
       "  </thead>\n",
       "  <tbody>\n",
       "    <tr>\n",
       "      <td>0</td>\n",
       "      <td>0</td>\n",
       "      <td>0</td>\n",
       "      <td>0</td>\n",
       "      <td>0</td>\n",
       "      <td>21</td>\n",
       "      <td>31</td>\n",
       "      <td>1</td>\n",
       "      <td>1</td>\n",
       "      <td>31</td>\n",
       "      <td>0</td>\n",
       "      <td>0</td>\n",
       "      <td>0</td>\n",
       "    </tr>\n",
       "    <tr>\n",
       "      <td>1</td>\n",
       "      <td>1</td>\n",
       "      <td>0</td>\n",
       "      <td>0</td>\n",
       "      <td>0</td>\n",
       "      <td>16</td>\n",
       "      <td>23</td>\n",
       "      <td>5</td>\n",
       "      <td>5</td>\n",
       "      <td>23</td>\n",
       "      <td>0</td>\n",
       "      <td>0</td>\n",
       "      <td>0</td>\n",
       "    </tr>\n",
       "    <tr>\n",
       "      <td>2</td>\n",
       "      <td>0</td>\n",
       "      <td>0</td>\n",
       "      <td>0</td>\n",
       "      <td>0</td>\n",
       "      <td>1</td>\n",
       "      <td>7</td>\n",
       "      <td>3</td>\n",
       "      <td>4</td>\n",
       "      <td>7</td>\n",
       "      <td>18302.1</td>\n",
       "      <td>0</td>\n",
       "      <td>0</td>\n",
       "    </tr>\n",
       "    <tr>\n",
       "      <td>3</td>\n",
       "      <td>0</td>\n",
       "      <td>0</td>\n",
       "      <td>0</td>\n",
       "      <td>0</td>\n",
       "      <td>21</td>\n",
       "      <td>55</td>\n",
       "      <td>21</td>\n",
       "      <td>23</td>\n",
       "      <td>36</td>\n",
       "      <td>0</td>\n",
       "      <td>0</td>\n",
       "      <td>0</td>\n",
       "    </tr>\n",
       "    <tr>\n",
       "      <td>4</td>\n",
       "      <td>0</td>\n",
       "      <td>1</td>\n",
       "      <td>0</td>\n",
       "      <td>0</td>\n",
       "      <td>0</td>\n",
       "      <td>2</td>\n",
       "      <td>1</td>\n",
       "      <td>1</td>\n",
       "      <td>2</td>\n",
       "      <td>0</td>\n",
       "      <td>0</td>\n",
       "      <td>0</td>\n",
       "    </tr>\n",
       "    <tr>\n",
       "      <td>...</td>\n",
       "      <td>...</td>\n",
       "      <td>...</td>\n",
       "      <td>...</td>\n",
       "      <td>...</td>\n",
       "      <td>...</td>\n",
       "      <td>...</td>\n",
       "      <td>...</td>\n",
       "      <td>...</td>\n",
       "      <td>...</td>\n",
       "      <td>...</td>\n",
       "      <td>...</td>\n",
       "      <td>...</td>\n",
       "    </tr>\n",
       "    <tr>\n",
       "      <td>964</td>\n",
       "      <td>0</td>\n",
       "      <td>1</td>\n",
       "      <td>43.3214</td>\n",
       "      <td>0</td>\n",
       "      <td>26</td>\n",
       "      <td>41</td>\n",
       "      <td>2</td>\n",
       "      <td>4</td>\n",
       "      <td>39</td>\n",
       "      <td>5861</td>\n",
       "      <td>0</td>\n",
       "      <td>0</td>\n",
       "    </tr>\n",
       "    <tr>\n",
       "      <td>965</td>\n",
       "      <td>1</td>\n",
       "      <td>0</td>\n",
       "      <td>0</td>\n",
       "      <td>0</td>\n",
       "      <td>0</td>\n",
       "      <td>2</td>\n",
       "      <td>2</td>\n",
       "      <td>2</td>\n",
       "      <td>2</td>\n",
       "      <td>0</td>\n",
       "      <td>0</td>\n",
       "      <td>0</td>\n",
       "    </tr>\n",
       "    <tr>\n",
       "      <td>966</td>\n",
       "      <td>0</td>\n",
       "      <td>0</td>\n",
       "      <td>0</td>\n",
       "      <td>2</td>\n",
       "      <td>9</td>\n",
       "      <td>17</td>\n",
       "      <td>2</td>\n",
       "      <td>3</td>\n",
       "      <td>17</td>\n",
       "      <td>52743.1</td>\n",
       "      <td>0</td>\n",
       "      <td>0</td>\n",
       "    </tr>\n",
       "    <tr>\n",
       "      <td>967</td>\n",
       "      <td>0</td>\n",
       "      <td>0</td>\n",
       "      <td>0</td>\n",
       "      <td>0</td>\n",
       "      <td>2</td>\n",
       "      <td>8</td>\n",
       "      <td>3</td>\n",
       "      <td>3</td>\n",
       "      <td>8</td>\n",
       "      <td>0</td>\n",
       "      <td>0</td>\n",
       "      <td>0</td>\n",
       "    </tr>\n",
       "    <tr>\n",
       "      <td>968</td>\n",
       "      <td>0</td>\n",
       "      <td>0</td>\n",
       "      <td>0</td>\n",
       "      <td>0</td>\n",
       "      <td>0</td>\n",
       "      <td>1</td>\n",
       "      <td>2</td>\n",
       "      <td>3</td>\n",
       "      <td>1</td>\n",
       "      <td>7168.96</td>\n",
       "      <td>0</td>\n",
       "      <td>0</td>\n",
       "    </tr>\n",
       "  </tbody>\n",
       "</table>\n",
       "<p>969 rows × 12 columns</p>\n",
       "</div>"
      ],
      "text/plain": [
       "     Sale_MF Sex ActBal_CC Count_MF TransactionsDebCashless_Card  \\\n",
       "0          0   0         0        0                           21   \n",
       "1          1   0         0        0                           16   \n",
       "2          0   0         0        0                            1   \n",
       "3          0   0         0        0                           21   \n",
       "4          0   1         0        0                            0   \n",
       "..       ...  ..       ...      ...                          ...   \n",
       "964        0   1   43.3214        0                           26   \n",
       "965        1   0         0        0                            0   \n",
       "966        0   0         0        2                            9   \n",
       "967        0   0         0        0                            2   \n",
       "968        0   0         0        0                            0   \n",
       "\n",
       "    TransactionsDeb TransactionsCred_CA TransactionsCred TransactionsDeb_CA  \\\n",
       "0                31                   1                1                 31   \n",
       "1                23                   5                5                 23   \n",
       "2                 7                   3                4                  7   \n",
       "3                55                  21               23                 36   \n",
       "4                 2                   1                1                  2   \n",
       "..              ...                 ...              ...                ...   \n",
       "964              41                   2                4                 39   \n",
       "965               2                   2                2                  2   \n",
       "966              17                   2                3                 17   \n",
       "967               8                   3                3                  8   \n",
       "968               1                   2                3                  1   \n",
       "\n",
       "    ActBal_SA Count_CL ActBal_CL  \n",
       "0           0        0         0  \n",
       "1           0        0         0  \n",
       "2     18302.1        0         0  \n",
       "3           0        0         0  \n",
       "4           0        0         0  \n",
       "..        ...      ...       ...  \n",
       "964      5861        0         0  \n",
       "965         0        0         0  \n",
       "966   52743.1        0         0  \n",
       "967         0        0         0  \n",
       "968   7168.96        0         0  \n",
       "\n",
       "[969 rows x 12 columns]"
      ]
     },
     "execution_count": 26,
     "metadata": {},
     "output_type": "execute_result"
    }
   ],
   "source": [
    "df_train_MF=df_train_MF.loc[:,['Sale_MF','Sex','ActBal_CC','Count_MF','TransactionsDebCashless_Card','TransactionsDeb','TransactionsCred_CA',\n",
    "                               'TransactionsCred','TransactionsDeb_CA','ActBal_SA','Count_CL','ActBal_CL']]\n",
    "df_train_MF=df_train_MF.replace({np.NaN:'0'})\n",
    "df_train_MF"
   ]
  },
  {
   "cell_type": "code",
   "execution_count": 27,
   "metadata": {},
   "outputs": [],
   "source": [
    "#Train-test-split\n",
    "#y = target value ['Sale_MF'], X with all the features\n",
    "SEED=123\n",
    "Y=df_train_MF.iloc[:,0].values\n",
    "X=df_train_MF.iloc[:,1:].values\n",
    "train_X, test_X, train_Y, test_Y = train_test_split(X,Y, test_size=0.25, random_state=SEED)"
   ]
  },
  {
   "cell_type": "code",
   "execution_count": 28,
   "metadata": {},
   "outputs": [
    {
     "data": {
      "text/plain": [
       "0.7119341563786008"
      ]
     },
     "execution_count": 28,
     "metadata": {},
     "output_type": "execute_result"
    }
   ],
   "source": [
    "#Fit a dicision tree \n",
    "#Using gini criterion, could obtain an accuracy of 6.8% more \n",
    "# Initialize the model with max_depth set at 5\n",
    "from sklearn import tree\n",
    "from sklearn.tree import DecisionTreeClassifier\n",
    "mytree = tree.DecisionTreeClassifier(ccp_alpha=0.1,max_depth=20)\n",
    "mytree = DecisionTreeClassifier(criterion='gini', random_state=1)\n",
    "\n",
    "# Fit the model on the training data\n",
    "treemodel = mytree.fit(train_X, train_Y)\n",
    "\n",
    "# Predict values on the testing data\n",
    "pred_Y_test = treemodel.predict(test_X)\n",
    "pred_Y_train = treemodel.predict(train_X)\n",
    "\n",
    "# Measure model performance on testing data\n",
    "y_pred=treemodel.predict(test_X)\n",
    "accuracy_score(test_Y, y_pred)"
   ]
  },
  {
   "cell_type": "code",
   "execution_count": 29,
   "metadata": {},
   "outputs": [
    {
     "data": {
      "text/plain": [
       "0.28"
      ]
     },
     "execution_count": 29,
     "metadata": {},
     "output_type": "execute_result"
    }
   ],
   "source": [
    "metrics.recall_score(test_Y,y_pred)"
   ]
  },
  {
   "cell_type": "code",
   "execution_count": 30,
   "metadata": {},
   "outputs": [],
   "source": [
    "#Matching the probability of purchase of each client form df_MF's table by creating a new column \n",
    "def score(dataframe, Client, pscore):\n",
    "    dataframe['Propensity'] = 0\n",
    "    for i in range(len(dataframe)):\n",
    "        idx=dataframe.index[i]\n",
    "        for j in range(len(Client)):\n",
    "            if dataframe.loc[idx,'Client']==Client[j]:\n",
    "                dataframe.loc[idx,'Propensity']=pscore[j]\n",
    "                                             \n",
    "\n",
    "#Client=test_X[:,0]\n",
    "#pscore=treemodel.predict_proba(test_X)[:,1]\n",
    "#score(df_train_MF, Client, pscore)\n",
    "#Client_Dtf=pd.DataFrame(Client) \n",
    "#pscore_Dtf=pd.DataFrame(pscore) \n",
    "#pscore_Dtf=pscore_Dtf.rename(columns={0:'Client'})\n",
    "#Client_Dtf=Client_Dtf.rename(columns={0:'Client'})\n"
   ]
  },
  {
   "cell_type": "markdown",
   "metadata": {},
   "source": [
    "\n",
    "\n",
    "## Ensemble Training for the second round\n",
    "\n"
   ]
  },
  {
   "cell_type": "code",
   "execution_count": 31,
   "metadata": {},
   "outputs": [],
   "source": [
    "train_X, test_X, train_Y, test_Y = train_test_split(X,Y, test_size=0.25)\n",
    "# Instantiate individual classifiers\n",
    "lr = LogisticRegression(random_state=1)\n",
    "knn = KNN()\n",
    "dt = DecisionTreeClassifier(random_state=1)\n",
    "classifiers = [('Logistic Regression', lr), ('K Nearest Neighbours', knn),\n",
    "('Classification Tree', dt)]"
   ]
  },
  {
   "cell_type": "code",
   "execution_count": 32,
   "metadata": {},
   "outputs": [
    {
     "name": "stdout",
     "output_type": "stream",
     "text": [
      "Logistic Regression : 0.765\n",
      "K Nearest Neighbours : 0.757\n",
      "Classification Tree : 0.704\n"
     ]
    },
    {
     "name": "stderr",
     "output_type": "stream",
     "text": [
      "/opt/anaconda3/lib/python3.7/site-packages/sklearn/linear_model/_logistic.py:940: ConvergenceWarning: lbfgs failed to converge (status=1):\n",
      "STOP: TOTAL NO. of ITERATIONS REACHED LIMIT.\n",
      "\n",
      "Increase the number of iterations (max_iter) or scale the data as shown in:\n",
      "    https://scikit-learn.org/stable/modules/preprocessing.html\n",
      "Please also refer to the documentation for alternative solver options:\n",
      "    https://scikit-learn.org/stable/modules/linear_model.html#logistic-regression\n",
      "  extra_warning_msg=_LOGISTIC_SOLVER_CONVERGENCE_MSG)\n"
     ]
    }
   ],
   "source": [
    "for clf_name,clf in classifiers:\n",
    "    clf.fit(train_X,train_Y)\n",
    "    y_pred=clf.predict(test_X)\n",
    "    print('{:s} : {:.3f}'.format(clf_name, accuracy_score(test_Y, y_pred)))"
   ]
  },
  {
   "cell_type": "code",
   "execution_count": 33,
   "metadata": {},
   "outputs": [
    {
     "name": "stderr",
     "output_type": "stream",
     "text": [
      "/opt/anaconda3/lib/python3.7/site-packages/sklearn/linear_model/_logistic.py:940: ConvergenceWarning: lbfgs failed to converge (status=1):\n",
      "STOP: TOTAL NO. of ITERATIONS REACHED LIMIT.\n",
      "\n",
      "Increase the number of iterations (max_iter) or scale the data as shown in:\n",
      "    https://scikit-learn.org/stable/modules/preprocessing.html\n",
      "Please also refer to the documentation for alternative solver options:\n",
      "    https://scikit-learn.org/stable/modules/linear_model.html#logistic-regression\n",
      "  extra_warning_msg=_LOGISTIC_SOLVER_CONVERGENCE_MSG)\n"
     ]
    },
    {
     "data": {
      "text/plain": [
       "<function sklearn.metrics._classification.accuracy_score(y_true, y_pred, normalize=True, sample_weight=None)>"
      ]
     },
     "execution_count": 33,
     "metadata": {},
     "output_type": "execute_result"
    }
   ],
   "source": [
    "from sklearn.ensemble import VotingClassifier\n",
    "vc = VotingClassifier(estimators=classifiers)\n",
    "vc.fit(train_X, train_Y) \n",
    "y_pred = vc.predict(test_X)\n",
    "accuracy_score(test_Y, y_pred)\n",
    "accuracy_score\n",
    "#metrics.precision_score(test_Y,y_pred)"
   ]
  },
  {
   "cell_type": "markdown",
   "metadata": {},
   "source": [
    "The accuracy from ensemble training obtained is 81.09 %, as we can see from the DecisionTree model, but after merging the revenue column with the potentiel MF product clients, there is clearly a mismatch. \n",
    "## So further correlation and investigation need to be conducted."
   ]
  },
  {
   "cell_type": "markdown",
   "metadata": {},
   "source": [
    "# Logistic Regression for MF products  \n"
   ]
  },
  {
   "cell_type": "markdown",
   "metadata": {},
   "source": [
    "## 1. First Step: Explore the data - Study the correlation between attributes"
   ]
  },
  {
   "cell_type": "markdown",
   "metadata": {},
   "source": [
    "## 2. Second step: Selecting only the features who have high correlation with Sales_MF"
   ]
  },
  {
   "cell_type": "markdown",
   "metadata": {},
   "source": [
    "## 3. Third step: Train-Test-Split -> Fit the logistic model"
   ]
  },
  {
   "cell_type": "code",
   "execution_count": 34,
   "metadata": {},
   "outputs": [
    {
     "name": "stdout",
     "output_type": "stream",
     "text": [
      "Accuracy = 0.6131687242798354\n"
     ]
    },
    {
     "name": "stderr",
     "output_type": "stream",
     "text": [
      "/opt/anaconda3/lib/python3.7/site-packages/sklearn/linear_model/_logistic.py:1505: UserWarning: Setting penalty='none' will ignore the C and l1_ratio parameters\n",
      "  \"Setting penalty='none' will ignore the C and l1_ratio \"\n",
      "/opt/anaconda3/lib/python3.7/site-packages/sklearn/linear_model/_logistic.py:940: ConvergenceWarning: lbfgs failed to converge (status=1):\n",
      "STOP: TOTAL NO. of ITERATIONS REACHED LIMIT.\n",
      "\n",
      "Increase the number of iterations (max_iter) or scale the data as shown in:\n",
      "    https://scikit-learn.org/stable/modules/preprocessing.html\n",
      "Please also refer to the documentation for alternative solver options:\n",
      "    https://scikit-learn.org/stable/modules/linear_model.html#logistic-regression\n",
      "  extra_warning_msg=_LOGISTIC_SOLVER_CONVERGENCE_MSG)\n"
     ]
    }
   ],
   "source": [
    "#Train-test-split using logistic regression \n",
    "from sklearn.linear_model import LogisticRegression\n",
    "logistic = LogisticRegression(penalty='none',C=3,class_weight='balanced')\n",
    "logistic = logistic.fit(train_X, train_Y)\n",
    "print(\"Accuracy = \"+str(logistic.score(test_X, test_Y)))"
   ]
  },
  {
   "cell_type": "markdown",
   "metadata": {},
   "source": [
    "## 4. Mesuring the performance of the model -> Confusion Matrix"
   ]
  },
  {
   "cell_type": "code",
   "execution_count": 35,
   "metadata": {},
   "outputs": [
    {
     "data": {
      "text/plain": [
       "0.28421052631578947"
      ]
     },
     "execution_count": 35,
     "metadata": {},
     "output_type": "execute_result"
    }
   ],
   "source": [
    "# confusion matrix instead of MSE\n",
    "#print the CV error, Train error, Test error\n",
    "#print('CV MSE: {:.2f}'.format(mse_cv.mean()))\n",
    "#print('Train MSE: {:.2f}'.format(MSE(train_Y, pred_Y_train)))\n",
    "#print('Test MSE: {:.2f}'.format(MSE(test_Y, pred_Y_test)))\n",
    "# Use score method to get accuracy of model\n",
    "#score = logistic.score(test_X, test_Y)\n",
    "#print(score)\n",
    "y_pred=logistic.predict(test_X)\n",
    "#metrics.precision_score(test_Y,y_pred)\n",
    "metrics.precision_score(test_Y,y_pred)"
   ]
  },
  {
   "cell_type": "code",
   "execution_count": 36,
   "metadata": {},
   "outputs": [
    {
     "data": {
      "text/html": [
       "<div>\n",
       "<style scoped>\n",
       "    .dataframe tbody tr th:only-of-type {\n",
       "        vertical-align: middle;\n",
       "    }\n",
       "\n",
       "    .dataframe tbody tr th {\n",
       "        vertical-align: top;\n",
       "    }\n",
       "\n",
       "    .dataframe thead th {\n",
       "        text-align: right;\n",
       "    }\n",
       "</style>\n",
       "<table border=\"1\" class=\"dataframe\">\n",
       "  <thead>\n",
       "    <tr style=\"text-align: right;\">\n",
       "      <th></th>\n",
       "      <th>Revenue_MF</th>\n",
       "    </tr>\n",
       "  </thead>\n",
       "  <tbody>\n",
       "    <tr>\n",
       "      <td>0</td>\n",
       "      <td>0.000000</td>\n",
       "    </tr>\n",
       "    <tr>\n",
       "      <td>1</td>\n",
       "      <td>25.609107</td>\n",
       "    </tr>\n",
       "    <tr>\n",
       "      <td>2</td>\n",
       "      <td>0.000000</td>\n",
       "    </tr>\n",
       "    <tr>\n",
       "      <td>3</td>\n",
       "      <td>0.000000</td>\n",
       "    </tr>\n",
       "    <tr>\n",
       "      <td>4</td>\n",
       "      <td>0.000000</td>\n",
       "    </tr>\n",
       "    <tr>\n",
       "      <td>...</td>\n",
       "      <td>...</td>\n",
       "    </tr>\n",
       "    <tr>\n",
       "      <td>964</td>\n",
       "      <td>0.000000</td>\n",
       "    </tr>\n",
       "    <tr>\n",
       "      <td>965</td>\n",
       "      <td>1.761071</td>\n",
       "    </tr>\n",
       "    <tr>\n",
       "      <td>966</td>\n",
       "      <td>0.000000</td>\n",
       "    </tr>\n",
       "    <tr>\n",
       "      <td>967</td>\n",
       "      <td>0.000000</td>\n",
       "    </tr>\n",
       "    <tr>\n",
       "      <td>968</td>\n",
       "      <td>0.000000</td>\n",
       "    </tr>\n",
       "  </tbody>\n",
       "</table>\n",
       "<p>969 rows × 1 columns</p>\n",
       "</div>"
      ],
      "text/plain": [
       "     Revenue_MF\n",
       "0      0.000000\n",
       "1     25.609107\n",
       "2      0.000000\n",
       "3      0.000000\n",
       "4      0.000000\n",
       "..          ...\n",
       "964    0.000000\n",
       "965    1.761071\n",
       "966    0.000000\n",
       "967    0.000000\n",
       "968    0.000000\n",
       "\n",
       "[969 rows x 1 columns]"
      ]
     },
     "execution_count": 36,
     "metadata": {},
     "output_type": "execute_result"
    }
   ],
   "source": [
    "tab1=pd.DataFrame(df_sales['Revenue_MF'])\n",
    "tab1"
   ]
  },
  {
   "cell_type": "code",
   "execution_count": 37,
   "metadata": {},
   "outputs": [],
   "source": [
    "#df_train_MF=df_train_MF[(df_train_MF.Sale_MF !=0)]\n",
    "#df_train_MF=df_train_MF[(df_train_MF.Propensity !=0)]\n",
    "#tab=df_train_MF[['Sale_MF','Client','Propensity']]\n",
    "#MF_Pred=pd.merge(tab,tab1, left_index=True, right_index=True,how='left')\n",
    "#print('The expected revenue generated from all possible clients are {:.2f}'.format((MF_Pred['Revenue_MF'].sum())))"
   ]
  },
  {
   "cell_type": "markdown",
   "metadata": {},
   "source": [
    "## The expected revenue generated from all possible clients for MF  product is 433.96\n"
   ]
  },
  {
   "cell_type": "markdown",
   "metadata": {},
   "source": [
    "## Naive Bayes"
   ]
  },
  {
   "cell_type": "code",
   "execution_count": 38,
   "metadata": {},
   "outputs": [],
   "source": [
    "#from sklearn.naive_bayes import GaussianNB\n",
    "#gnb = GaussianNB()\n",
    "#y_pred = gnb.fit(train_X, train_Y).predict(test_X)\n",
    "#prediction=cross_val_predict(gnb,train_X,train_Y)\n",
    "#accuracy=accuracy_score(test_Y, y_pred)\n",
    "#accuracy"
   ]
  },
  {
   "cell_type": "markdown",
   "metadata": {},
   "source": [
    "## SVM"
   ]
  },
  {
   "cell_type": "code",
   "execution_count": 51,
   "metadata": {},
   "outputs": [
    {
     "data": {
      "text/plain": [
       "0.7860082304526749"
      ]
     },
     "execution_count": 51,
     "metadata": {},
     "output_type": "execute_result"
    }
   ],
   "source": [
    "from sklearn import svm\n",
    "from sklearn.model_selection import cross_val_predict\n",
    "clff = svm.SVC(kernel='rbf', gamma=4)\n",
    "#score=cross_val_score(clf,train_X, train_Y, cv=10)\n",
    "y_pred=clff.fit(train_X, train_Y).predict(test_X)\n",
    "accuracy=accuracy_score(test_Y, y_pred)\n",
    "accuracy\n",
    "#metrics.precision_score(test_Y,y_pred)"
   ]
  },
  {
   "cell_type": "code",
   "execution_count": 50,
   "metadata": {},
   "outputs": [
    {
     "data": {
      "text/plain": [
       "0.7695473251028807"
      ]
     },
     "execution_count": 50,
     "metadata": {},
     "output_type": "execute_result"
    }
   ],
   "source": [
    "scores = cross_val_score(clff, train_X, train_Y, cv=10)\n",
    "#print ('Cross-validated scores:', scores)\n",
    "predictions = cross_val_predict(clff, test_X,test_Y, cv=10)\n",
    "accuracy = accuracy_score(test_Y, predictions)\n",
    "accuracy"
   ]
  },
  {
   "cell_type": "markdown",
   "metadata": {},
   "source": [
    "## Tuning SVM Model"
   ]
  },
  {
   "cell_type": "code",
   "execution_count": 41,
   "metadata": {},
   "outputs": [],
   "source": [
    "from sklearn.model_selection import GridSearchCV\n",
    "def svc_param_selection(X, Y, nfolds):\n",
    "    Cs = [0.001, 0.01, 0.1, 1, 10]\n",
    "    gammas = [0.001, 0.01, 0.1, 1]\n",
    "    param_grid = {'C': Cs, 'gamma' : gammas}\n",
    "    grid_search = GridSearchCV(svm.SVC(kernel='rbf'), param_grid, cv=nfolds)\n",
    "    grid_search.fit(train_X, train_Y)\n",
    "    grid_search.best_params_\n",
    "    return grid_search.best_params_"
   ]
  },
  {
   "cell_type": "markdown",
   "metadata": {},
   "source": [
    "## Random Forest"
   ]
  },
  {
   "cell_type": "code",
   "execution_count": 14,
   "metadata": {},
   "outputs": [
    {
     "data": {
      "text/plain": [
       "0.7901234567901234"
      ]
     },
     "execution_count": 14,
     "metadata": {},
     "output_type": "execute_result"
    }
   ],
   "source": [
    "from sklearn.ensemble import RandomForestClassifier\n",
    "from sklearn.datasets import make_classification\n",
    "X, y = make_classification(n_samples=1000, n_features=4,n_informative=2, n_redundant=0,\n",
    "random_state=0, shuffle=False)\n",
    "clf = RandomForestClassifier(n_estimators=1000,max_depth=10, random_state=0)\n",
    "clf.fit(train_X,train_Y)\n",
    "accuracy=accuracy_score(test_Y, y_pred)\n",
    "accuracy"
   ]
  },
  {
   "cell_type": "markdown",
   "metadata": {},
   "source": [
    "# Explore the data"
   ]
  },
  {
   "cell_type": "code",
   "execution_count": 435,
   "metadata": {},
   "outputs": [
    {
     "data": {
      "image/png": "[encoded data removed]",
      "text/plain": [
       "<Figure size 432x288 with 1 Axes>"
      ]
     },
     "metadata": {
      "needs_background": "light"
     },
     "output_type": "display_data"
    }
   ],
   "source": [
    "# countplot of distribution of Sex\n",
    "# There are slightly more men than women in this data set.\n",
    "df_soc['Sex'] = df_soc['Sex'].astype('category')\n",
    "sns.countplot(x='Sex', data=df_soc);\n",
    "plt.title('Distribution of Gender');"
   ]
  },
  {
   "cell_type": "code",
   "execution_count": 17,
   "metadata": {
    "scrolled": true
   },
   "outputs": [
    {
     "data": {
      "text/plain": [
       "Text(0.5, 0, 'Age')"
      ]
     },
     "execution_count": 17,
     "metadata": {},
     "output_type": "execute_result"
    },
    {
     "data": {
      "image/png": "[encoded data removed]",
      "text/plain": [
       "<Figure size 432x288 with 1 Axes>"
      ]
     },
     "metadata": {
      "needs_background": "light"
     },
     "output_type": "display_data"
    }
   ],
   "source": [
    "#What about age?\n",
    "df_soc.hist('Age', bins=35);\n",
    "plt.title('Distribution of Age');\n",
    "plt.xlabel('Age')"
   ]
  },
  {
   "cell_type": "code",
   "execution_count": 18,
   "metadata": {},
   "outputs": [
    {
     "data": {
      "text/plain": [
       "Text(0.5, 0, 'Tenure')"
      ]
     },
     "execution_count": 18,
     "metadata": {},
     "output_type": "execute_result"
    },
    {
     "data": {
      "image/png": "[encoded data removed]",
      "text/plain": [
       "<Figure size 432x288 with 1 Axes>"
      ]
     },
     "metadata": {
      "needs_background": "light"
     },
     "output_type": "display_data"
    }
   ],
   "source": [
    "#What about Tenure?\n",
    "df_soc.hist('Tenure', bins=25);\n",
    "plt.title('Distribution of Tenure');\n",
    "plt.xlabel('Tenure')"
   ]
  },
  {
   "cell_type": "code",
   "execution_count": 19,
   "metadata": {},
   "outputs": [
    {
     "data": {
      "image/png": "[encoded data removed]",
      "text/plain": [
       "<Figure size 432x288 with 1 Axes>"
      ]
     },
     "metadata": {
      "needs_background": "light"
     },
     "output_type": "display_data"
    }
   ],
   "source": [
    "plt.hist('Age', data=df_soc[df_soc['Sex'] == 'M'], alpha=0.5, label='Male');\n",
    "plt.hist('Age', data=df_soc[df_soc['Sex'] == 'F'], alpha=0.5, label='Female');\n",
    "plt.title('Distribution of Age by Gender');\n",
    "plt.xlabel('Age');\n",
    "plt.legend();"
   ]
  },
  {
   "cell_type": "code",
   "execution_count": 20,
   "metadata": {},
   "outputs": [
    {
     "data": {
      "image/png": "[encoded data removed]",
      "text/plain": [
       "<Figure size 432x288 with 1 Axes>"
      ]
     },
     "metadata": {
      "needs_background": "light"
     },
     "output_type": "display_data"
    }
   ],
   "source": [
    "# Tenure de 150 months sont le plus fréquent chez un client au sein de cette banque \n",
    "sns.scatterplot('Age', 'Tenure', hue='Sex', data=df_soc);\n",
    "plt.title('Age to Tenure, Colored by Gender');"
   ]
  },
  {
   "cell_type": "code",
   "execution_count": 21,
   "metadata": {},
   "outputs": [
    {
     "data": {
      "text/plain": [
       "Text(0.5, 1.0, 'Product Analysis')"
      ]
     },
     "execution_count": 21,
     "metadata": {},
     "output_type": "execute_result"
    },
    {
     "data": {
      "image/png": "[encoded data removed]",
      "text/plain": [
       "<Figure size 432x288 with 1 Axes>"
      ]
     },
     "metadata": {
      "needs_background": "light"
     },
     "output_type": "display_data"
    }
   ],
   "source": [
    "product_analysis = pd.DataFrame({'Category': {0: 'Credit', 1: 'Loan',2:'Mutual Fund'}, 'Sum': {0: float(df_sales[[\"Sale_CC\"]].sum()),\n",
    "1:float(df_sales[[\"Sale_CL\"]].sum()),2:float(df_sales[[\"Sale_MF\"]].sum()) }})\n",
    "sns.barplot(x='Sum',y='Category',data=product_analysis)\n",
    "plt.title(\"Product Analysis\")"
   ]
  },
  {
   "cell_type": "markdown",
   "metadata": {},
   "source": [
    "# Feature Engineering"
   ]
  },
  {
   "cell_type": "code",
   "execution_count": 29,
   "metadata": {},
   "outputs": [],
   "source": [
    "# This table gives us a clear on different types of clients : \n",
    "#1.Those who have one current account or multiple CA\n",
    "#2.Among who have saving intent, they have saving account, or moreover \n",
    "#3.They have investing intent \n",
    "df_product['Count_CA'] = df_product['Count_CA'].astype('category')\n",
    "df_prsoduct['Count_SA'] = df_product['Count_SA'].astype('category')\n",
    "dfs_product['Count_MF'] = df_product['Count_MF'].astype('category')\n",
    "df_product['Count_OVD'] = df_product['Count_OVD'].astype('category')\n",
    "df_product['Count_CC'] = df_product['Count_CC'].astype('category')\n",
    "df_product['Count_CL'] = df_product['Count_CL'].astype('category')"
   ]
  },
  {
   "cell_type": "code",
   "execution_count": 30,
   "metadata": {
    "scrolled": true
   },
   "outputs": [],
   "source": [
    "### 100 of the most profitable clients within this bank from a revenue per sales point of view \n",
    "\n",
    "df_sales['Sale_MF'] = df_sales['Sale_MF'].astype('int')\n",
    "df_sales['Sale_CC'] = df_sales['Sale_CC'].astype('int')\n",
    "df_sales['Sale_CL'] = df_sales['Sale_CL'].astype('int')\n",
    "df_sales['Total_Revenue']=df_sales['Revenue_MF']+df_sales['Revenue_CC']+df_sales['Revenue_CL']\n",
    "df_sales['Total_Sales']=df_sales['Sale_MF']+df_sales['Sale_CC']+df_sales['Sale_CL']\n",
    "df_sales=df_sales.sort_values('Total_Revenue', ascending = False)\n",
    "df_sales['Revpersale']=df_sales['Total_Revenue']/df_sales['Total_Sales']\n",
    "df_sales.loc[:, (df_sales != 0).any(axis=0)]\n",
    "df_sales=df_sales.dropna()#569 client left\n",
    "df_sales\n",
    "###\n",
    "df_soc_Revpersale= pd.merge(df_soc,df_sales, on='Client', how='inner')\n",
    "df_soc_Revpersale=df_soc_Revpersale.sort_values('Revpersale', ascending = False)\n",
    "df_train_rev=df_soc_Revpersale.head(100)"
   ]
  },
  {
   "cell_type": "markdown",
   "metadata": {},
   "source": [
    "## Final Classification Prediction"
   ]
  },
  {
   "cell_type": "code",
   "execution_count": 9,
   "metadata": {},
   "outputs": [
    {
     "name": "stderr",
     "output_type": "stream",
     "text": [
      "/opt/anaconda3/lib/python3.7/site-packages/ipykernel_launcher.py:7: FutureWarning: Sorting because non-concatenation axis is not aligned. A future version\n",
      "of pandas will change to not sort by default.\n",
      "\n",
      "To accept the future behavior, pass 'sort=False'.\n",
      "\n",
      "To retain the current behavior and silence the warning, pass 'sort=True'.\n",
      "\n",
      "  import sys\n",
      "/opt/anaconda3/lib/python3.7/site-packages/pandas/core/indexing.py:1418: FutureWarning: \n",
      "Passing list-likes to .loc or [] with any missing label will raise\n",
      "KeyError in the future, you can use .reindex() as an alternative.\n",
      "\n",
      "See the documentation here:\n",
      "https://pandas.pydata.org/pandas-docs/stable/user_guide/indexing.html#deprecate-loc-reindex-listlike\n",
      "  return self._getitem_tuple(key)\n"
     ]
    },
    {
     "data": {
      "text/html": [
       "<div>\n",
       "<style scoped>\n",
       "    .dataframe tbody tr th:only-of-type {\n",
       "        vertical-align: middle;\n",
       "    }\n",
       "\n",
       "    .dataframe tbody tr th {\n",
       "        vertical-align: top;\n",
       "    }\n",
       "\n",
       "    .dataframe thead th {\n",
       "        text-align: right;\n",
       "    }\n",
       "</style>\n",
       "<table border=\"1\" class=\"dataframe\">\n",
       "  <thead>\n",
       "    <tr style=\"text-align: right;\">\n",
       "      <th></th>\n",
       "      <th>Sex</th>\n",
       "      <th>ActBal_CC</th>\n",
       "      <th>Count_MF</th>\n",
       "      <th>TransactionsDebCashless_Card</th>\n",
       "      <th>TransactionsDeb</th>\n",
       "      <th>TransactionsCred_CA</th>\n",
       "      <th>TransactionsCred</th>\n",
       "      <th>TransactionsDeb_CA</th>\n",
       "      <th>ActBal_SA</th>\n",
       "      <th>Count_CL</th>\n",
       "      <th>ActBal_CL</th>\n",
       "    </tr>\n",
       "  </thead>\n",
       "  <tbody>\n",
       "    <tr>\n",
       "      <td>0</td>\n",
       "      <td>0.0</td>\n",
       "      <td>0.0</td>\n",
       "      <td>0.0</td>\n",
       "      <td>0.0</td>\n",
       "      <td>8.0</td>\n",
       "      <td>3.0</td>\n",
       "      <td>4.0</td>\n",
       "      <td>7.0</td>\n",
       "      <td>0.0</td>\n",
       "      <td>0.0</td>\n",
       "      <td>0.0</td>\n",
       "    </tr>\n",
       "    <tr>\n",
       "      <td>6</td>\n",
       "      <td>0.0</td>\n",
       "      <td>0.0</td>\n",
       "      <td>0.0</td>\n",
       "      <td>0.0</td>\n",
       "      <td>13.0</td>\n",
       "      <td>6.0</td>\n",
       "      <td>8.0</td>\n",
       "      <td>10.0</td>\n",
       "      <td>0.0</td>\n",
       "      <td>0.0</td>\n",
       "      <td>0.0</td>\n",
       "    </tr>\n",
       "    <tr>\n",
       "      <td>9</td>\n",
       "      <td>0.0</td>\n",
       "      <td>0.0</td>\n",
       "      <td>0.0</td>\n",
       "      <td>3.0</td>\n",
       "      <td>10.0</td>\n",
       "      <td>2.0</td>\n",
       "      <td>2.0</td>\n",
       "      <td>10.0</td>\n",
       "      <td>0.0</td>\n",
       "      <td>0.0</td>\n",
       "      <td>0.0</td>\n",
       "    </tr>\n",
       "    <tr>\n",
       "      <td>10</td>\n",
       "      <td>0.0</td>\n",
       "      <td>0.0</td>\n",
       "      <td>0.0</td>\n",
       "      <td>0.0</td>\n",
       "      <td>1.0</td>\n",
       "      <td>3.0</td>\n",
       "      <td>3.0</td>\n",
       "      <td>1.0</td>\n",
       "      <td>0.0</td>\n",
       "      <td>0.0</td>\n",
       "      <td>0.0</td>\n",
       "    </tr>\n",
       "    <tr>\n",
       "      <td>13</td>\n",
       "      <td>0.0</td>\n",
       "      <td>0.0</td>\n",
       "      <td>0.0</td>\n",
       "      <td>10.0</td>\n",
       "      <td>17.0</td>\n",
       "      <td>2.0</td>\n",
       "      <td>2.0</td>\n",
       "      <td>17.0</td>\n",
       "      <td>0.0</td>\n",
       "      <td>0.0</td>\n",
       "      <td>0.0</td>\n",
       "    </tr>\n",
       "    <tr>\n",
       "      <td>...</td>\n",
       "      <td>...</td>\n",
       "      <td>...</td>\n",
       "      <td>...</td>\n",
       "      <td>...</td>\n",
       "      <td>...</td>\n",
       "      <td>...</td>\n",
       "      <td>...</td>\n",
       "      <td>...</td>\n",
       "      <td>...</td>\n",
       "      <td>...</td>\n",
       "      <td>...</td>\n",
       "    </tr>\n",
       "    <tr>\n",
       "      <td>1598</td>\n",
       "      <td>0.0</td>\n",
       "      <td>0.0</td>\n",
       "      <td>0.0</td>\n",
       "      <td>0.0</td>\n",
       "      <td>9.0</td>\n",
       "      <td>5.0</td>\n",
       "      <td>7.0</td>\n",
       "      <td>5.0</td>\n",
       "      <td>0.0</td>\n",
       "      <td>0.0</td>\n",
       "      <td>0.0</td>\n",
       "    </tr>\n",
       "    <tr>\n",
       "      <td>1600</td>\n",
       "      <td>0.0</td>\n",
       "      <td>0.0</td>\n",
       "      <td>0.0</td>\n",
       "      <td>0.0</td>\n",
       "      <td>3.0</td>\n",
       "      <td>2.0</td>\n",
       "      <td>2.0</td>\n",
       "      <td>3.0</td>\n",
       "      <td>0.0</td>\n",
       "      <td>0.0</td>\n",
       "      <td>0.0</td>\n",
       "    </tr>\n",
       "    <tr>\n",
       "      <td>1608</td>\n",
       "      <td>0.0</td>\n",
       "      <td>0.0</td>\n",
       "      <td>0.0</td>\n",
       "      <td>3.0</td>\n",
       "      <td>12.0</td>\n",
       "      <td>3.0</td>\n",
       "      <td>3.0</td>\n",
       "      <td>12.0</td>\n",
       "      <td>0.0</td>\n",
       "      <td>0.0</td>\n",
       "      <td>0.0</td>\n",
       "    </tr>\n",
       "    <tr>\n",
       "      <td>1610</td>\n",
       "      <td>0.0</td>\n",
       "      <td>0.0</td>\n",
       "      <td>0.0</td>\n",
       "      <td>1.0</td>\n",
       "      <td>12.0</td>\n",
       "      <td>3.0</td>\n",
       "      <td>3.0</td>\n",
       "      <td>12.0</td>\n",
       "      <td>0.0</td>\n",
       "      <td>0.0</td>\n",
       "      <td>0.0</td>\n",
       "    </tr>\n",
       "    <tr>\n",
       "      <td>1614</td>\n",
       "      <td>0.0</td>\n",
       "      <td>0.0</td>\n",
       "      <td>0.0</td>\n",
       "      <td>1.0</td>\n",
       "      <td>6.0</td>\n",
       "      <td>4.0</td>\n",
       "      <td>4.0</td>\n",
       "      <td>6.0</td>\n",
       "      <td>0.0</td>\n",
       "      <td>0.0</td>\n",
       "      <td>0.0</td>\n",
       "    </tr>\n",
       "  </tbody>\n",
       "</table>\n",
       "<p>646 rows × 11 columns</p>\n",
       "</div>"
      ],
      "text/plain": [
       "      Sex  ActBal_CC  Count_MF  TransactionsDebCashless_Card  TransactionsDeb  \\\n",
       "0     0.0        0.0       0.0                           0.0              8.0   \n",
       "6     0.0        0.0       0.0                           0.0             13.0   \n",
       "9     0.0        0.0       0.0                           3.0             10.0   \n",
       "10    0.0        0.0       0.0                           0.0              1.0   \n",
       "13    0.0        0.0       0.0                          10.0             17.0   \n",
       "...   ...        ...       ...                           ...              ...   \n",
       "1598  0.0        0.0       0.0                           0.0              9.0   \n",
       "1600  0.0        0.0       0.0                           0.0              3.0   \n",
       "1608  0.0        0.0       0.0                           3.0             12.0   \n",
       "1610  0.0        0.0       0.0                           1.0             12.0   \n",
       "1614  0.0        0.0       0.0                           1.0              6.0   \n",
       "\n",
       "      TransactionsCred_CA  TransactionsCred  TransactionsDeb_CA  ActBal_SA  \\\n",
       "0                     3.0               4.0                 7.0        0.0   \n",
       "6                     6.0               8.0                10.0        0.0   \n",
       "9                     2.0               2.0                10.0        0.0   \n",
       "10                    3.0               3.0                 1.0        0.0   \n",
       "13                    2.0               2.0                17.0        0.0   \n",
       "...                   ...               ...                 ...        ...   \n",
       "1598                  5.0               7.0                 5.0        0.0   \n",
       "1600                  2.0               2.0                 3.0        0.0   \n",
       "1608                  3.0               3.0                12.0        0.0   \n",
       "1610                  3.0               3.0                12.0        0.0   \n",
       "1614                  4.0               4.0                 6.0        0.0   \n",
       "\n",
       "      Count_CL  ActBal_CL  \n",
       "0          0.0        0.0  \n",
       "6          0.0        0.0  \n",
       "9          0.0        0.0  \n",
       "10         0.0        0.0  \n",
       "13         0.0        0.0  \n",
       "...        ...        ...  \n",
       "1598       0.0        0.0  \n",
       "1600       0.0        0.0  \n",
       "1608       0.0        0.0  \n",
       "1610       0.0        0.0  \n",
       "1614       0.0        0.0  \n",
       "\n",
       "[646 rows x 11 columns]"
      ]
     },
     "execution_count": 9,
     "metadata": {},
     "output_type": "execute_result"
    }
   ],
   "source": [
    "# Get the 40% of missing data from df_soc\n",
    "df_40=pd.merge(df_soc, df_inoutflow, on='Client', how='left')\n",
    "df_40_1=pd.merge(df_40, df_product, on='Client', how='left')\n",
    "df_40_1['Sex']=df_40_1['Sex'].replace({'M':'0','F':'1'})\n",
    "df_40_1 = df_40_1[['Client','VolumeCred','VolumeCred_CA','TransactionsCred','TransactionsCred_CA','VolumeDeb','VolumeDeb_CA','VolumeDebCash_Card','VolumeDebCashless_Card','VolumeDeb_PaymentOrder','TransactionsDeb','TransactionsDeb_CA','TransactionsDebCash_Card','TransactionsDebCashless_Card','TransactionsDeb_PaymentOrder','Age','Tenure']]\n",
    "#df_train_MF=df_train_MF.dropna()\n",
    "df_40_2=pd.concat([df_40_1, df_sales])\n",
    "df_40_f=df_40_2.drop_duplicates(subset='Client', keep=False)\n",
    "#df_40_f=df_40_f.loc[:,['Client']]\n",
    "#df_40_f=df_40_f.drop(['Sale_MF','Client','Age','Tenure','Revenue_CC','Revenue_CL','Revenue_MF','Sale_CC','Sale_CL'],axis=1)\n",
    "#df_40_f=df_40_f.drop(['Sale_MF','Sale_CC','Sale_CL','Revenue_MF','Revenue_CC','Revenue_CL'],axis=1)\n",
    "\n",
    "df_40_f=df_40_f.loc[:,['Sex','ActBal_CC','Count_MF','TransactionsDebCashless_Card','TransactionsDeb','TransactionsCred_CA',\n",
    "                               'TransactionsCred','TransactionsDeb_CA','ActBal_SA','Count_CL','ActBal_CL']]\n",
    "df_40_f=df_40_f.replace({np.NaN:0})\n",
    "df_40_f\n"
   ]
  },
  {
   "cell_type": "code",
   "execution_count": 15,
   "metadata": {},
   "outputs": [
    {
     "data": {
      "text/plain": [
       "0    629\n",
       "1     17\n",
       "Name: Sales_MF_Prediction, dtype: int64"
      ]
     },
     "execution_count": 15,
     "metadata": {},
     "output_type": "execute_result"
    }
   ],
   "source": [
    "Prediction=clff.predict(df_40_f)\n",
    "Sales_MF_Prediction=pd.DataFrame(Prediction)\n",
    "Sales_MF_Prediction=Sales_MF_Prediction.rename(columns={0:'Sales_MF_Prediction'})\n",
    "Sales_MF_Prediction['Sales_MF_Prediction'].value_counts()\n",
    "#Sales_MF_Prediction_final=pd.merge(df_40_f,Sales_MF_Prediction,right_index=True,left_index=True,how='left')\n",
    "#Sales_MF_Prediction_final['Sales_MF_Prediction'].value_counts()\n",
    "\n",
    "#Prediction.shape"
   ]
  },
  {
   "cell_type": "code",
   "execution_count": 54,
   "metadata": {},
   "outputs": [],
   "source": [
    "Sales_MF_Prediction_final=pd.merge(df_40_f,Sales_MF_Prediction,right_index=True,left_index=True,how='right')\n",
    "spf=pd.merge(Sales_MF_Prediction_final, df_soc,right_index=True,left_index=True,how='left')\n",
    "spf=spf[['Client','Sales_MF_Prediction']]\n",
    "spf=spf[spf.Sales_MF_Prediction!=0]\n",
    "spf.to_pickle('spf.pickle')"
   ]
  },
  {
   "cell_type": "code",
   "execution_count": 55,
   "metadata": {},
   "outputs": [
    {
     "data": {
      "text/html": [
       "<div>\n",
       "<style scoped>\n",
       "    .dataframe tbody tr th:only-of-type {\n",
       "        vertical-align: middle;\n",
       "    }\n",
       "\n",
       "    .dataframe tbody tr th {\n",
       "        vertical-align: top;\n",
       "    }\n",
       "\n",
       "    .dataframe thead th {\n",
       "        text-align: right;\n",
       "    }\n",
       "</style>\n",
       "<table border=\"1\" class=\"dataframe\">\n",
       "  <thead>\n",
       "    <tr style=\"text-align: right;\">\n",
       "      <th></th>\n",
       "      <th>Client</th>\n",
       "      <th>Sales_MF_Prediction</th>\n",
       "    </tr>\n",
       "  </thead>\n",
       "  <tbody>\n",
       "    <tr>\n",
       "      <td>46</td>\n",
       "      <td>285</td>\n",
       "      <td>1</td>\n",
       "    </tr>\n",
       "    <tr>\n",
       "      <td>81</td>\n",
       "      <td>1545</td>\n",
       "      <td>1</td>\n",
       "    </tr>\n",
       "    <tr>\n",
       "      <td>89</td>\n",
       "      <td>703</td>\n",
       "      <td>1</td>\n",
       "    </tr>\n",
       "    <tr>\n",
       "      <td>170</td>\n",
       "      <td>1195</td>\n",
       "      <td>1</td>\n",
       "    </tr>\n",
       "    <tr>\n",
       "      <td>269</td>\n",
       "      <td>1074</td>\n",
       "      <td>1</td>\n",
       "    </tr>\n",
       "    <tr>\n",
       "      <td>296</td>\n",
       "      <td>680</td>\n",
       "      <td>1</td>\n",
       "    </tr>\n",
       "    <tr>\n",
       "      <td>311</td>\n",
       "      <td>735</td>\n",
       "      <td>1</td>\n",
       "    </tr>\n",
       "    <tr>\n",
       "      <td>318</td>\n",
       "      <td>1503</td>\n",
       "      <td>1</td>\n",
       "    </tr>\n",
       "    <tr>\n",
       "      <td>332</td>\n",
       "      <td>1095</td>\n",
       "      <td>1</td>\n",
       "    </tr>\n",
       "    <tr>\n",
       "      <td>362</td>\n",
       "      <td>830</td>\n",
       "      <td>1</td>\n",
       "    </tr>\n",
       "    <tr>\n",
       "      <td>414</td>\n",
       "      <td>1244</td>\n",
       "      <td>1</td>\n",
       "    </tr>\n",
       "    <tr>\n",
       "      <td>424</td>\n",
       "      <td>782</td>\n",
       "      <td>1</td>\n",
       "    </tr>\n",
       "    <tr>\n",
       "      <td>427</td>\n",
       "      <td>1535</td>\n",
       "      <td>1</td>\n",
       "    </tr>\n",
       "    <tr>\n",
       "      <td>476</td>\n",
       "      <td>1272</td>\n",
       "      <td>1</td>\n",
       "    </tr>\n",
       "    <tr>\n",
       "      <td>499</td>\n",
       "      <td>210</td>\n",
       "      <td>1</td>\n",
       "    </tr>\n",
       "    <tr>\n",
       "      <td>565</td>\n",
       "      <td>483</td>\n",
       "      <td>1</td>\n",
       "    </tr>\n",
       "    <tr>\n",
       "      <td>578</td>\n",
       "      <td>1325</td>\n",
       "      <td>1</td>\n",
       "    </tr>\n",
       "  </tbody>\n",
       "</table>\n",
       "</div>"
      ],
      "text/plain": [
       "     Client  Sales_MF_Prediction\n",
       "46      285                    1\n",
       "81     1545                    1\n",
       "89      703                    1\n",
       "170    1195                    1\n",
       "269    1074                    1\n",
       "296     680                    1\n",
       "311     735                    1\n",
       "318    1503                    1\n",
       "332    1095                    1\n",
       "362     830                    1\n",
       "414    1244                    1\n",
       "424     782                    1\n",
       "427    1535                    1\n",
       "476    1272                    1\n",
       "499     210                    1\n",
       "565     483                    1\n",
       "578    1325                    1"
      ]
     },
     "execution_count": 55,
     "metadata": {},
     "output_type": "execute_result"
    }
   ],
   "source": [
    "spf"
   ]
  },
  {
   "cell_type": "code",
   "execution_count": null,
   "metadata": {},
   "outputs": [],
   "source": []
  }
 ],
 "metadata": {
  "kernelspec": {
   "display_name": "Python 3",
   "language": "python",
   "name": "python3"
  },
  "language_info": {
   "codemirror_mode": {
    "name": "ipython",
    "version": 3
   },
   "file_extension": ".py",
   "mimetype": "text/x-python",
   "name": "python",
   "nbconvert_exporter": "python",
   "pygments_lexer": "ipython3",
   "version": "3.7.4"
  }
 },
 "nbformat": 4,
 "nbformat_minor": 2
}
